{
 "cells": [
  {
   "cell_type": "markdown",
   "metadata": {},
   "source": [
    "# Ground Motion for Assessment of Losses (GALE)\n",
    "\n",
    "This ipython notebook supports users in the generation of ground motion fields using data from the USGS ShakeMap system, which can be store in the OpenQuake format and used for loss and damage estimation. These ground motion fields can be generated considering the cross-spatial correlation in the residuals of the ground shaking."
   ]
  },
  {
   "cell_type": "code",
   "execution_count": 1,
   "metadata": {
    "collapsed": false,
    "scrolled": false
   },
   "outputs": [
    {
     "name": "stdout",
     "output_type": "stream",
     "text": [
      "Total number of locations with ground shaking:\n",
      "114798\n",
      "The following IMTs were found:\n",
      "['PGA', 'SA(0.3)', 'SA(1.0)', 'SA(3.0)']\n",
      "[ 84.          84.10344828  84.20689655  84.31034483  84.4137931\n",
      "  84.51724138  84.62068966  84.72413793  84.82758621  84.93103448\n",
      "  85.03448276  85.13793103  85.24137931  85.34482759  85.44827586\n",
      "  85.55172414  85.65517241  85.75862069  85.86206897  85.96551724\n",
      "  86.06896552  86.17241379  86.27586207  86.37931034  86.48275862\n",
      "  86.5862069   86.68965517  86.79310345  86.89655172  87.        ]\n",
      "Total number of locations after re-distribution\n",
      "900\n"
     ]
    },
    {
     "data": {
      "image/png": "[encoded data removed]",
      "text/plain": [
       "<matplotlib.figure.Figure at 0x10858f190>"
      ]
     },
     "metadata": {},
     "output_type": "display_data"
    }
   ],
   "source": [
    "import inputProcessing\n",
    "import outputProcessing\n",
    "\n",
    "%matplotlib inline\n",
    "\n",
    "#Indicate in the following variables the two files from the USGS ShakeMap system (exactly as downloaded)\n",
    "shakingFile = 'ghorka_shaking.xml'\n",
    "uncertaintyFile = 'ghorka_uncertainty.xml'\n",
    "\n",
    "#Extract the ground shaking data from the ShakeMaps\n",
    "groundShakingData, IMTs = inputProcessing.parse_xml_data_files(shakingFile,uncertaintyFile)\n",
    "\n",
    "#In order to reduce the computional burden, these data can be reduced using a coarser grid, or the locations of the assets\n",
    "reducedShakingData = inputProcessing.reduceShakingData(groundShakingData,[84,87,26,29],0.1)\n",
    "locations = reducedShakingData[:,0:2]\n",
    "\n",
    "#Plot the locations that will be considered for the ground motion generation\n",
    "inputProcessing.plotLocations(locations)\n",
    "\n",
    "#The data can be further reduced based on the locations.\n",
    "#closestGroundShaking = inputProcessing.extract_closest_ground_shaking(locations,groundShakingData)\n"
   ]
  },
  {
   "cell_type": "code",
   "execution_count": 2,
   "metadata": {
    "collapsed": false,
    "scrolled": false
   },
   "outputs": [],
   "source": [
    "import groundShakingCalculation\n",
    "#Calculate the distance between all of the locations\n",
    "distanceMatrix = groundShakingCalculation.calculate_distance_matrix(locations)\n",
    "\n",
    "#Calculate the correlation metix based on the IMTs and distance between all of the locations\n",
    "spatialCorrMatrices = groundShakingCalculation.calculate_spatial_correlation_matrices(distanceMatrix,IMTs,'spatial')\n",
    "\n",
    "#Calculate covariance matrix using the correlation matrix\n",
    "spatialCovMatrices = groundShakingCalculation.calculate_spatial_covariance_matrices(reducedShakingData,spatialCorrMatrices)\n",
    "\n",
    "#Calculate the cross-correlation matrix considering the 4 IMTs from the ShakeMap system (PGA, Sa at 0.3, 1.0 and 3.0 s)\n",
    "crossCorrMatrix = groundShakingCalculation.calculate_cross_correlation_matrix(IMTs,'cross')\n",
    "\n",
    "#Generate the cross correlated ground motion fields\n",
    "gmfs = groundShakingCalculation.generate_random_fields_ground_motion(IMTs,reducedShakingData,spatialCovMatrices,crossCorrMatrix,True,3,1000)"
   ]
  },
  {
   "cell_type": "code",
   "execution_count": 3,
   "metadata": {
    "collapsed": false,
    "scrolled": true
   },
   "outputs": [],
   "source": [
    "import outputProcessing\n",
    "\n",
    "#Specify the file name to save the cross-correlated ground motion fields\n",
    "file_name = 'Ghorka'\n",
    "\n",
    "#Specify which IMTs should be saved\n",
    "IMTs = ['PGA','SA(0.3)']\n",
    "\n",
    "#Save the cross-correlared ground motion fields in csv and OpenQuake-format for loss estimation (xml)\n",
    "outputProcessing.save_gmfs_to_csv(file_name,locations,gmfs)\n",
    "outputProcessing.save_gmfs_to_xml(file_name,IMTs,locations,gmfs)"
   ]
  },
  {
   "cell_type": "code",
   "execution_count": 4,
   "metadata": {
    "collapsed": false
   },
   "outputs": [
    {
     "name": "stdout",
     "output_type": "stream",
     "text": [
      "[[[  1.00000000e+00   4.28549513e-01   1.83654685e-01 ...,   1.86983298e-14\n",
      "     1.01448632e-14   5.44685348e-15]\n",
      "  [  4.28549513e-01   1.00000000e+00   4.28549513e-01 ...,   3.45771503e-14\n",
      "     1.89642031e-14   1.02865411e-14]\n",
      "  [  1.83654685e-01   4.28549513e-01   1.00000000e+00 ...,   6.32298784e-14\n",
      "     3.50792578e-14   1.92346660e-14]\n",
      "  ..., \n",
      "  [  1.86983298e-14   3.45771503e-14   6.32298784e-14 ...,   1.00000000e+00\n",
      "     4.28549513e-01   1.83654685e-01]\n",
      "  [  1.01448632e-14   1.89642031e-14   3.50792578e-14 ...,   4.28549513e-01\n",
      "     1.00000000e+00   4.28549513e-01]\n",
      "  [  5.44685348e-15   1.02865411e-14   1.92346660e-14 ...,   1.83654685e-01\n",
      "     4.28549513e-01   1.00000000e+00]]\n",
      "\n",
      " [[  1.00000000e+00   3.85705006e-01   1.48768351e-01 ...,   3.67501375e-16\n",
      "     1.84795402e-16   9.18363538e-17]\n",
      "  [  3.85705006e-01   1.00000000e+00   3.85705006e-01 ...,   7.33557672e-16\n",
      "     3.73381664e-16   1.87699481e-16]\n",
      "  [  1.48768351e-01   3.85705006e-01   1.00000000e+00 ...,   1.44594917e-15\n",
      "     7.45544873e-16   3.79373986e-16]\n",
      "  ..., \n",
      "  [  3.67501375e-16   7.33557672e-16   1.44594917e-15 ...,   1.00000000e+00\n",
      "     3.85705006e-01   1.48768351e-01]\n",
      "  [  1.84795402e-16   3.73381664e-16   7.45544873e-16 ...,   3.85705006e-01\n",
      "     1.00000000e+00   3.85705006e-01]\n",
      "  [  9.18363538e-17   1.87699481e-16   3.79373986e-16 ...,   1.48768351e-01\n",
      "     3.85705006e-01   1.00000000e+00]]\n",
      "\n",
      " [[  1.00000000e+00   2.61345846e-01   6.83016512e-02 ...,   1.81650404e-22\n",
      "     6.89740306e-23   2.57595872e-23]\n",
      "  [  2.61345846e-01   1.00000000e+00   2.61345846e-01 ...,   4.80896233e-22\n",
      "     1.85757778e-22   7.05057031e-23]\n",
      "  [  6.83016512e-02   2.61345846e-01   1.00000000e+00 ...,   1.25077884e-21\n",
      "     4.92002115e-22   1.89970683e-22]\n",
      "  ..., \n",
      "  [  1.81650404e-22   4.80896233e-22   1.25077884e-21 ...,   1.00000000e+00\n",
      "     2.61345846e-01   6.83016512e-02]\n",
      "  [  6.89740306e-23   1.85757778e-22   4.92002115e-22 ...,   2.61345846e-01\n",
      "     1.00000000e+00   2.61345846e-01]\n",
      "  [  2.57595872e-23   7.05057031e-23   1.89970683e-22 ...,   6.83016512e-02\n",
      "     2.61345846e-01   1.00000000e+00]]\n",
      "\n",
      " [[  1.00000000e+00   3.52781473e-01   1.24454768e-01 ...,   1.31737435e-17\n",
      "     6.21124777e-18   2.89108806e-18]\n",
      "  [  3.52781473e-01   1.00000000e+00   3.52781473e-01 ...,   2.80541809e-17\n",
      "     1.34044465e-17   6.31807810e-18]\n",
      "  [  1.24454768e-01   3.52781473e-01   1.00000000e+00 ...,   5.89275540e-17\n",
      "     2.85559366e-17   1.36398952e-17]\n",
      "  ..., \n",
      "  [  1.31737435e-17   2.80541809e-17   5.89275540e-17 ...,   1.00000000e+00\n",
      "     3.52781473e-01   1.24454768e-01]\n",
      "  [  6.21124777e-18   1.34044465e-17   2.85559366e-17 ...,   3.52781473e-01\n",
      "     1.00000000e+00   3.52781473e-01]\n",
      "  [  2.89108806e-18   6.31807810e-18   1.36398952e-17 ...,   1.24454768e-01\n",
      "     3.52781473e-01   1.00000000e+00]]]\n",
      "[[ 1.          0.74786421  0.58662465  0.44993595]\n",
      " [ 0.74786421  1.          0.58110666  0.26434847]\n",
      " [ 0.58662465  0.58110666  1.          0.61574401]\n",
      " [ 0.44993595  0.26434847  0.61574401  1.        ]]\n"
     ]
    },
    {
     "data": {
      "text/plain": [
       "array([[ 1.        ,  0.07972875],\n",
       "       [ 0.07972875,  1.        ]])"
      ]
     },
     "execution_count": 4,
     "metadata": {},
     "output_type": "execute_result"
    }
   ],
   "source": [
    "#Some of the variables can be printed in order to check whether the correlation that was imposed is verified in the outputs\n",
    "print spatialCorrMatrices\n",
    "print crossCorrMatrix\n",
    "from numpy import corrcoef\n",
    "corrcoef(gmfs[0],gmfs[3])"
   ]
  },
  {
   "cell_type": "code",
   "execution_count": null,
   "metadata": {
    "collapsed": true
   },
   "outputs": [],
   "source": []
  }
 ],
 "metadata": {
  "kernelspec": {
   "display_name": "Python 2",
   "language": "python",
   "name": "python2"
  },
  "language_info": {
   "codemirror_mode": {
    "name": "ipython",
    "version": 2
   },
   "file_extension": ".py",
   "mimetype": "text/x-python",
   "name": "python",
   "nbconvert_exporter": "python",
   "pygments_lexer": "ipython2",
   "version": "2.7.9"
  }
 },
 "nbformat": 4,
 "nbformat_minor": 0
}
